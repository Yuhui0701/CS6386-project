{
 "cells": [
  {
   "cell_type": "code",
   "execution_count": 2,
   "metadata": {},
   "outputs": [],
   "source": [
    "import numpy as np\n",
    "from sklearn.cluster import KMeans\n",
    "from sklearn.metrics import pairwise_distances\n",
    "import random\n"
   ]
  },
  {
   "cell_type": "code",
   "execution_count": 18,
   "metadata": {},
   "outputs": [
    {
     "name": "stdout",
     "output_type": "stream",
     "text": [
      "Cluster Centers:\n",
      "[[0.28700148 0.25468215]\n",
      " [0.48181827 0.61452034]\n",
      " [0.7941259  0.22871941]\n",
      " [0.75046898 0.84791565]\n",
      " [0.15072834 0.80542925]]\n",
      "Cluster Labels:\n",
      "[1 2 2 2 3 2 2 2 0 0 4 4 3 0 2 0 4 3 1 1 0 0 0 4 0 1 2 3 3 1 2 4 3 3 1 0 0\n",
      " 0 2 4 2 1 4 1 4 1 0 2 3 2 0 0 4 3 1 1 0 1 3 0 2 1 1 4 0 0 1 2 1 0 2 0 0 4\n",
      " 0 2 2 4 4 3 1 0 0 2 1 0 1 2 1 0 3 2 4 1 1 4 2 2 1 0]\n",
      "Diameters of Clusters:\n",
      "[0.30714104949054033, 0.25884727984744965, 0.3319615461816317, 0.31388529277256494, 0.25520198554724677]\n",
      "The smallest cluster diameter is in Cluster 4: 0.25520198554724677\n"
     ]
    },
    {
     "name": "stderr",
     "output_type": "stream",
     "text": [
      "E:\\Anaconda3\\lib\\site-packages\\sklearn\\cluster\\_kmeans.py:1416: FutureWarning: The default value of `n_init` will change from 10 to 'auto' in 1.4. Set the value of `n_init` explicitly to suppress the warning\n",
      "  super()._check_params_vs_input(X, default_n_init=10)\n",
      "E:\\Anaconda3\\lib\\site-packages\\sklearn\\cluster\\_kmeans.py:1440: UserWarning: KMeans is known to have a memory leak on Windows with MKL, when there are less chunks than available threads. You can avoid it by setting the environment variable OMP_NUM_THREADS=1.\n",
      "  warnings.warn(\n"
     ]
    }
   ],
   "source": [
    "# Generate some sample data (replace this with your dataset)\n",
    "n = 100\n",
    "data = np.random.rand(n, 2)\n",
    "\n",
    "# Define the number of clusters (k)\n",
    "k = 5\n",
    "# Perform k-means clustering\n",
    "kmeans = KMeans(n_clusters=k, random_state=0).fit(data)\n",
    "labels = kmeans.labels_\n",
    "centers = kmeans.cluster_centers_\n",
    "\n",
    "# Calculate the diameter of each cluster\n",
    "diameters = []\n",
    "for i in range(k):\n",
    "    cluster_points = data[labels == i]\n",
    "    distances = pairwise_distances(cluster_points, centers[i].reshape(1, -1))\n",
    "    max_distance = np.max(distances)\n",
    "    diameters.append(max_distance)\n",
    "\n",
    "# Find the cluster with the smallest diameter\n",
    "min_diameter_cluster = np.argmin(diameters)\n",
    "min_diameter = diameters[min_diameter_cluster]\n",
    "\n",
    "# Print the results\n",
    "print(\"Cluster Centers:\")\n",
    "print(centers)\n",
    "print(\"Cluster Labels:\")\n",
    "print(labels)\n",
    "print(\"Diameters of Clusters:\")\n",
    "print(diameters)\n",
    "print(f\"The smallest cluster diameter is in Cluster {min_diameter_cluster}: {min_diameter}\")\n"
   ]
  },
  {
   "cell_type": "code",
   "execution_count": 14,
   "metadata": {},
   "outputs": [],
   "source": [
    "def calculate_max_distance(V):\n",
    "    max_distance = 0\n",
    "    for i in range(len(V)):\n",
    "        for j in range(i + 1, len(V)):\n",
    "            dist = np.linalg.norm(np.array(V[i]) - np.array(V[j]))  # Euclidean distance\n",
    "            if dist > max_distance:\n",
    "                max_distance = dist\n",
    "    return max_distance"
   ]
  },
  {
   "cell_type": "code",
   "execution_count": 13,
   "metadata": {},
   "outputs": [],
   "source": [
    "def distance(point1, point2):\n",
    "    return np.linalg.norm(np.array(point1) - np.array(point2))"
   ]
  },
  {
   "cell_type": "code",
   "execution_count": 16,
   "metadata": {},
   "outputs": [],
   "source": [
    "def guess_best_diameter(V, k):\n",
    "    R = calculate_max_distance(V)\n",
    "    best_diameter = None\n",
    "    best_subset_S = None\n",
    "    best_subset_size = float('inf')\n",
    "\n",
    "    for D in range(1, int(R) + 1):  # 将 R 转换为整数\n",
    "        S = find_subset_within_diameter(V, D)\n",
    "        if len(S) <= k and len(S) < best_subset_size:\n",
    "            best_diameter = D\n",
    "            best_subset_S = S\n",
    "            best_subset_size = len(S)\n",
    "\n",
    "    return best_diameter, best_subset_S"
   ]
  },
  {
   "cell_type": "code",
   "execution_count": 6,
   "metadata": {},
   "outputs": [],
   "source": [
    "def find_subset_within_diameter(V, D):\n",
    "    S = set()\n",
    "    while V:\n",
    "        r = random.choice(list(V))\n",
    "        S.add(r)\n",
    "        V.remove(r)\n",
    "\n",
    "        for x in list(V):\n",
    "            if distance(r, x) <= 2 * D:\n",
    "                S.add(x)\n",
    "                V.remove(x)\n",
    "\n",
    "    return S"
   ]
  },
  {
   "cell_type": "code",
   "execution_count": 17,
   "metadata": {},
   "outputs": [
    {
     "name": "stdout",
     "output_type": "stream",
     "text": [
      "Best Diameter: 2\n",
      "Best Clusters:\n"
     ]
    }
   ],
   "source": [
    "#Sample Dataset V\n",
    "V = [\n",
    "    (1, 2),  # Coordinates of data point 1\n",
    "    (3, 4),  \n",
    "    (5, 6),\n",
    "    \n",
    "]\n",
    "\n",
    "#Set parameter k\n",
    "k = 3  #The number of families you hope to find\n",
    "\n",
    "#Calling methods to calculate the optimal diameter and build families\n",
    "best_diameter, best_clusters = guess_best_diameter(V, k)\n",
    "\n",
    "# Print the results\n",
    "print(f\"Best Diameter: {best_diameter}\")\n",
    "print(\"Best Clusters:\")\n",
    "for i, cluster in enumerate(best_clusters):\n",
    "    print(f\"Cluster {i + 1}: {cluster}\")\n"
   ]
  }
 ],
 "metadata": {
  "interpreter": {
   "hash": "4905652b14e4b7eb92899b78ac499a22c488804455b27940a322fd82aaf71031"
  },
  "kernelspec": {
   "display_name": "Python 3.10.9 ('base')",
   "language": "python",
   "name": "python3"
  },
  "language_info": {
   "codemirror_mode": {
    "name": "ipython",
    "version": 3
   },
   "file_extension": ".py",
   "mimetype": "text/x-python",
   "name": "python",
   "nbconvert_exporter": "python",
   "pygments_lexer": "ipython3",
   "version": "3.10.9"
  },
  "orig_nbformat": 4
 },
 "nbformat": 4,
 "nbformat_minor": 2
}
